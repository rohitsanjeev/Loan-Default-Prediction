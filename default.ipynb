{
 "cells": [
  {
   "cell_type": "code",
   "execution_count": 1,
   "id": "51b268b3",
   "metadata": {},
   "outputs": [
    {
     "name": "stdout",
     "output_type": "stream",
     "text": [
      "og\n"
     ]
    }
   ],
   "source": [
    "print(\"og\")"
   ]
  },
  {
   "cell_type": "code",
   "execution_count": 2,
   "id": "cb80954f",
   "metadata": {},
   "outputs": [
    {
     "name": "stdout",
     "output_type": "stream",
     "text": [
      "hello\n"
     ]
    }
   ],
   "source": [
    "print(\"hello\")"
   ]
  },
  {
   "cell_type": "code",
   "execution_count": 3,
   "id": "6b1422c3",
   "metadata": {},
   "outputs": [
    {
     "name": "stdout",
     "output_type": "stream",
     "text": [
      "LoanID            0\n",
      "Age               0\n",
      "Income            0\n",
      "LoanAmount        0\n",
      "CreditScore       0\n",
      "MonthsEmployed    0\n",
      "NumCreditLines    0\n",
      "InterestRate      0\n",
      "LoanTerm          0\n",
      "DTIRatio          0\n",
      "Education         0\n",
      "EmploymentType    0\n",
      "MaritalStatus     0\n",
      "HasMortgage       0\n",
      "HasDependents     0\n",
      "LoanPurpose       0\n",
      "HasCoSigner       0\n",
      "Default           0\n",
      "dtype: int64\n"
     ]
    }
   ],
   "source": [
    "import pandas as pd\n",
    "file_path = r\"C:\\Users\\SanjeevMuddala\\Documents\\GitHub\\Loan-Default-Prediction\\Loan Default Prediction\\Loan_default.csv\"\n",
    "data = pd.read_csv(file_path)\n",
    "# print(data.head())\n",
    "# print\n",
    "print(data.isnull().sum())"
   ]
  },
  {
   "cell_type": "code",
   "execution_count": 4,
   "id": "ca71223b",
   "metadata": {},
   "outputs": [
    {
     "name": "stdout",
     "output_type": "stream",
     "text": [
      "<bound method NDFrame.head of           LoanID       Age    Income  LoanAmount  CreditScore  MonthsEmployed  \\\n",
      "0       0.004802  0.833990  0.089693   -1.086833    -0.341492        0.590533   \n",
      "1      -0.030266  1.701221 -0.823021   -0.044309    -0.731666       -1.285731   \n",
      "2      -0.574395  0.166888  0.043854    0.022715    -0.775718       -0.968209   \n",
      "3       1.254281 -0.767053 -1.303452   -1.168538     1.061875       -1.718715   \n",
      "4      -0.297467  1.100830 -1.592855   -1.671921     0.369631       -1.487790   \n",
      "...          ...       ...       ...         ...          ...             ...   \n",
      "255342 -0.931839 -1.634285 -1.142632    1.173101    -0.209337        1.427636   \n",
      "255343 -0.841528 -0.767053 -0.783984    0.879724    -0.398130       -1.314597   \n",
      "255344  1.514401  0.833990  0.059562    1.139391     0.143078        0.301877   \n",
      "255345  0.121567 -0.099952  0.066979   -0.945840     1.477221       -0.564091   \n",
      "255346  1.714435  1.234250 -1.542012   -1.540048     0.388510        1.543098   \n",
      "\n",
      "        NumCreditLines  InterestRate  LoanTerm  DTIRatio  Education  \\\n",
      "0             1.341937      0.261771 -0.001526 -0.260753  -1.335708   \n",
      "1            -1.343791     -1.308350  1.412793  0.778585   0.451884   \n",
      "2             0.446694      1.156831 -0.708685 -0.823728   0.451884   \n",
      "3             0.446694     -0.967805 -0.708685 -1.170174  -0.441912   \n",
      "4             1.341937     -1.052188  0.705634  0.995114  -1.335708   \n",
      "...                ...           ...       ...       ...        ...   \n",
      "255342        1.341937      0.093006 -1.415845  1.514783  -1.335708   \n",
      "255343       -0.448549     -0.292744 -0.708685 -1.256785  -0.441912   \n",
      "255344        0.446694     -1.236022  1.412793 -0.000918  -0.441912   \n",
      "255345       -1.343791      1.116146  0.705634 -0.260753  -0.441912   \n",
      "255346       -0.448549     -1.019038 -1.415845 -0.087530  -1.335708   \n",
      "\n",
      "        EmploymentType  MaritalStatus  HasMortgage  HasDependents  \\\n",
      "0            -1.342541      -1.225315     0.999973       0.999464   \n",
      "1            -1.342541       0.000101    -1.000027      -1.000537   \n",
      "2             1.342369      -1.225315     0.999973       0.999464   \n",
      "3            -1.342541       0.000101    -1.000027      -1.000537   \n",
      "4             1.342369      -1.225315    -1.000027       0.999464   \n",
      "...                ...            ...          ...            ...   \n",
      "255342       -1.342541       0.000101    -1.000027      -1.000537   \n",
      "255343       -0.447571      -1.225315    -1.000027      -1.000537   \n",
      "255344        0.447399       0.000101     0.999973       0.999464   \n",
      "255345       -0.447571       1.225517     0.999973       0.999464   \n",
      "255346        1.342369      -1.225315     0.999973      -1.000537   \n",
      "\n",
      "        LoanPurpose  HasCoSigner   Default  \n",
      "0          1.415354     0.999785 -0.362472  \n",
      "1          1.415354     0.999785 -0.362472  \n",
      "2         -1.416063    -1.000215  2.758835  \n",
      "3         -0.708209    -1.000215 -0.362472  \n",
      "4         -1.416063    -1.000215 -0.362472  \n",
      "...             ...          ...       ...  \n",
      "255342     1.415354    -1.000215 -0.362472  \n",
      "255343     0.707499    -1.000215  2.758835  \n",
      "255344    -1.416063     0.999785 -0.362472  \n",
      "255345     1.415354    -1.000215 -0.362472  \n",
      "255346    -0.000355     0.999785 -0.362472  \n",
      "\n",
      "[255347 rows x 18 columns]>\n",
      "<class 'pandas.core.frame.DataFrame'>\n",
      "RangeIndex: 255347 entries, 0 to 255346\n",
      "Data columns (total 18 columns):\n",
      " #   Column          Non-Null Count   Dtype  \n",
      "---  ------          --------------   -----  \n",
      " 0   LoanID          255347 non-null  float64\n",
      " 1   Age             255347 non-null  float64\n",
      " 2   Income          255347 non-null  float64\n",
      " 3   LoanAmount      255347 non-null  float64\n",
      " 4   CreditScore     255347 non-null  float64\n",
      " 5   MonthsEmployed  255347 non-null  float64\n",
      " 6   NumCreditLines  255347 non-null  float64\n",
      " 7   InterestRate    255347 non-null  float64\n",
      " 8   LoanTerm        255347 non-null  float64\n",
      " 9   DTIRatio        255347 non-null  float64\n",
      " 10  Education       255347 non-null  float64\n",
      " 11  EmploymentType  255347 non-null  float64\n",
      " 12  MaritalStatus   255347 non-null  float64\n",
      " 13  HasMortgage     255347 non-null  float64\n",
      " 14  HasDependents   255347 non-null  float64\n",
      " 15  LoanPurpose     255347 non-null  float64\n",
      " 16  HasCoSigner     255347 non-null  float64\n",
      " 17  Default         255347 non-null  float64\n",
      "dtypes: float64(18)\n",
      "memory usage: 35.1 MB\n",
      "None\n"
     ]
    }
   ],
   "source": [
    "from sklearn.preprocessing import OneHotEncoder,StandardScaler\n",
    "from sklearn.compose import ColumnTransformer\n",
    "from sklearn.pipeline import Pipeline\n",
    "from sklearn.preprocessing import LabelEncoder as labelEncoder\n",
    "\n",
    "categorical_cols = data.select_dtypes(include=['object']).columns\n",
    "\n",
    "#step 2\n",
    "le = labelEncoder()\n",
    "for col in categorical_cols:\n",
    "    data[col] = le.fit_transform(data[col])\n",
    "\n",
    "numerical_cols = data.select_dtypes(include = ['int64','float64']).columns\n",
    "scalar = StandardScaler()\n",
    "data[numerical_cols] = scalar.fit_transform(data[numerical_cols])\n",
    "\n",
    "print(data.head)\n",
    "print(data.info())\n"
   ]
  },
  {
   "cell_type": "code",
   "execution_count": 5,
   "id": "b329e3cc",
   "metadata": {},
   "outputs": [],
   "source": [
    "target = \"Default\"\n",
    "\n",
    "numerical_cols = data.select_dtypes(include = ['int64','float64']).columns\n",
    "\n",
    "scalar = StandardScaler()\n",
    "data[numerical_cols] = scalar.fit_transform(data[numerical_cols])"
   ]
  },
  {
   "cell_type": "code",
   "execution_count": 6,
   "id": "4a14385a",
   "metadata": {},
   "outputs": [
    {
     "data": {
      "text/plain": [
       "Default\n",
       "-0.362472    225694\n",
       " 2.758835     29653\n",
       "Name: count, dtype: int64"
      ]
     },
     "execution_count": 6,
     "metadata": {},
     "output_type": "execute_result"
    }
   ],
   "source": [
    "import matplotlib.pyplot as plt\n",
    "import seaborn as sns\n",
    "# Calculates correlation between numerical features.\n",
    "# print(\"Default Value Counts:\\n\", data[\"Default\"].value_counts())\n",
    "data[\"Default\"].value_counts()\n"
   ]
  },
  {
   "cell_type": "code",
   "execution_count": 7,
   "id": "c18409ef",
   "metadata": {},
   "outputs": [
    {
     "data": {
      "image/png": "[encoded data removed]",
      "text/plain": [
       "<Figure size 640x480 with 1 Axes>"
      ]
     },
     "metadata": {},
     "output_type": "display_data"
    }
   ],
   "source": [
    "sns.countplot(x=\"Default\", data=data)\n",
    "plt.show()"
   ]
  },
  {
   "cell_type": "code",
   "execution_count": 8,
   "id": "f214f48b",
   "metadata": {},
   "outputs": [],
   "source": [
    "#### FEATURE ENGINEERING: Create new features that may enhance model performance, \n",
    "# such as debt-to-income ratio, loan\n",
    "data[\"DTIRatio\"] = data[\"LoanAmount\"] / (data[\"Income\"])"
   ]
  },
  {
   "cell_type": "code",
   "execution_count": 9,
   "id": "0715d0d9",
   "metadata": {},
   "outputs": [],
   "source": [
    "data[\"CreditScore\"] = pd.cut(\n",
    "    data[\"CreditScore\"],\n",
    "    bins=[0, 600, 700, 750, 850],\n",
    "    labels=[0, 1, 2, 3]\n",
    ")\n",
    "# Fill NaNs with a default value, e.g., -1, then convert to int\n",
    "data[\"CreditScore\"] = data[\"CreditScore\"].cat.add_categories([-1]).fillna(-1).astype(int)\n"
   ]
  },
  {
   "cell_type": "code",
   "execution_count": 10,
   "id": "d27dd8c1",
   "metadata": {},
   "outputs": [
    {
     "name": "stdout",
     "output_type": "stream",
     "text": [
      "(204277, 17) (51070, 17)\n"
     ]
    }
   ],
   "source": [
    "#3]Train Classification Models: Logistic Regression,\n",
    "#  Decision Trees, \n",
    "# Random Forest, \n",
    "# Gradient Boosting (XGBoost, LightGBM).\n",
    "# Explore different models and compare their performance.\n",
    " \n",
    "#3A) train - test split(needed before allmodels).\n",
    "\n",
    "from sklearn.model_selection import train_test_split\n",
    "data[\"Default\"] = data[\"Default\"].astype(int)\n",
    "X = data.drop(\"Default\", axis=1)\n",
    "Y = data[\"Default\"]\n",
    "\n",
    "X_train, X_test, Y_train, Y_test = train_test_split(X, Y, test_size=0.2, random_state=42,stratify=Y)\n",
    "  \n",
    "\n",
    "print(X_train.shape, X_test.shape)"
   ]
  },
  {
   "cell_type": "code",
   "execution_count": 20,
   "id": "809f51b9",
   "metadata": {},
   "outputs": [
    {
     "name": "stdout",
     "output_type": "stream",
     "text": [
      "0.8849618171137654\n",
      "              precision    recall  f1-score   support\n",
      "\n",
      "           0       0.89      1.00      0.94     45139\n",
      "           1       0.60      0.03      0.05      5931\n",
      "\n",
      "    accuracy                           0.88     51070\n",
      "   macro avg       0.74      0.51      0.50     51070\n",
      "weighted avg       0.85      0.88      0.84     51070\n",
      "\n",
      "(204277, 17) (51070, 17)\n"
     ]
    }
   ],
   "source": [
    "from sklearn.linear_model import LogisticRegression\n",
    "from sklearn.metrics import accuracy_score, classification_report\n",
    "\n",
    "# Convert continuous target to categorical (e.g., 0 and 1)\n",
    "# Here, we map the lowest value to 0 and the highest to 1\n",
    "Y_train_cat = (Y_train == Y_train.max()).astype(int)\n",
    "Y_test_cat = (Y_test == Y_test.max()).astype(int)\n",
    "\n",
    "# #create model\n",
    "log_reg = LogisticRegression(max_iter=1000) #increasing the iterations so converges\n",
    "#train the model\n",
    "log_reg.fit(X_train, Y_train_cat)\n",
    "#make predictions on test set\n",
    "Y_pred = log_reg.predict(X_test)\n",
    "print(accuracy_score(Y_test_cat, Y_pred))\n",
    "print(classification_report(Y_test_cat, Y_pred))\n",
    "\n",
    "# print(data.dtypes)\n",
    "# print(data.head())\n",
    "\n",
    "# --- Find and fix the target scaling issue ---\n",
    "\n",
    "# Before scaling, separate the target column\n",
    "target = \"Default\"\n",
    "feature_cols = data.columns.drop(target)\n",
    "\n",
    "# Only scale features, not the target\n",
    "scalar = StandardScaler()\n",
    "data[feature_cols] = scalar.fit_transform(data[feature_cols])\n",
    "\n",
    "# Ensure target is integer (binary classification: 0 or 1)\n",
    "data[target] = data[target].astype(int)\n",
    "\n",
    "# Train-test split\n",
    "from sklearn.model_selection import train_test_split\n",
    "X = data.drop(target, axis=1)\n",
    "Y = data[target]\n",
    "\n",
    "X_train, X_test, Y_train, Y_test = train_test_split(X, Y, test_size=0.2, random_state=42, stratify=Y)\n",
    "\n",
    "print(X_train.shape, X_test.shape)\n",
    "\n",
    "from sklearn.linear_model import LogisticRegression\n",
    "from sklearn.metrics import accuracy_score, classification_report\n",
    "\n",
    "# No need to convert target to categorical if already 0/1\n",
    "log_reg = LogisticRegression(max_iter=1000)\n",
    "log_reg.fit(X_train, Y_train)\n",
    "Y_pred = log_reg.predict(X_test)\n",
    "# Predict probability for the positive class (default = 2)\n",
    "Y_prob = log_reg.predict_proba(X_test)[:, 1]  # column 1 corresponds to class 2\n",
    "\n",
    "\n",
    "# accuracy = accuracy_score(Y_test, Y_pred)\n",
    "# print(\"Accuracy:\", accuracy)"
   ]
  },
  {
   "cell_type": "code",
   "execution_count": 21,
   "id": "ea16c7fd",
   "metadata": {},
   "outputs": [
    {
     "data": {
      "image/png": "[encoded data removed]",
      "text/plain": [
       "<Figure size 640x480 with 2 Axes>"
      ]
     },
     "metadata": {},
     "output_type": "display_data"
    }
   ],
   "source": [
    "from sklearn.metrics import confusion_matrix\n",
    "cm = confusion_matrix(Y_test, Y_pred)\n",
    "sns.heatmap(cm, annot=True, fmt=\"d\", cmap=\"Blues\")\n",
    "plt.xlabel(\"Predicted\")\n",
    "plt.ylabel(\"Actual\")\n",
    "plt.show()"
   ]
  },
  {
   "cell_type": "code",
   "execution_count": 22,
   "id": "7b8f9bc0",
   "metadata": {},
   "outputs": [
    {
     "name": "stdout",
     "output_type": "stream",
     "text": [
      "              precision    recall  f1-score   support\n",
      "\n",
      "           0       0.89      1.00      0.94     45139\n",
      "           2       0.60      0.03      0.05      5931\n",
      "\n",
      "    accuracy                           0.88     51070\n",
      "   macro avg       0.74      0.51      0.50     51070\n",
      "weighted avg       0.85      0.88      0.84     51070\n",
      "\n"
     ]
    }
   ],
   "source": [
    "from sklearn.metrics import classification_report\n",
    "\n",
    "print(classification_report(Y_test, Y_pred))"
   ]
  },
  {
   "cell_type": "code",
   "execution_count": 23,
   "id": "e2029066",
   "metadata": {},
   "outputs": [
    {
     "name": "stdout",
     "output_type": "stream",
     "text": [
      "Before SMOTE: (204277, 17) Default\n",
      "0    180555\n",
      "2     23722\n",
      "Name: count, dtype: int64\n",
      "After SMOTE: (361110, 17) Default\n",
      "0    180555\n",
      "2    180555\n",
      "Name: count, dtype: int64\n"
     ]
    }
   ],
   "source": [
    "from imblearn.over_sampling import SMOTE\n",
    "from sklearn.model_selection import train_test_split\n",
    "\n",
    "\n",
    "# Split first\n",
    "X_train, X_test, Y_train, Y_test = train_test_split(X, Y, test_size=0.2, random_state=42, stratify=Y)\n",
    "\n",
    "\n",
    "# Apply SMOTE to training data\n",
    "smote = SMOTE(random_state=42)\n",
    "X_train_res, Y_train_res = smote.fit_resample(X_train, Y_train)\n",
    "\n",
    "print(\"Before SMOTE:\", X_train.shape, Y_train.value_counts())\n",
    "print(\"After SMOTE:\", X_train_res.shape, Y_train_res.value_counts())"
   ]
  },
  {
   "cell_type": "code",
   "execution_count": 24,
   "id": "9dc1e024",
   "metadata": {},
   "outputs": [
    {
     "name": "stdout",
     "output_type": "stream",
     "text": [
      "AUC-ROC Score: 0.7488930733445628\n"
     ]
    },
    {
     "name": "stderr",
     "output_type": "stream",
     "text": [
      "c:\\Users\\SanjeevMuddala\\anaconda3\\Lib\\site-packages\\sklearn\\metrics\\_ranking.py:1188: UndefinedMetricWarning: No positive samples in y_true, true positive value should be meaningless\n",
      "  warnings.warn(\n"
     ]
    }
   ],
   "source": [
    "from sklearn.metrics import roc_curve, roc_auc_score\n",
    "\n",
    "# Ensure the model is fitted before calling predict_proba\n",
    "# If you get an error, re-run the cell where log_reg.fit(X_train, Y_train) is called\n",
    "\n",
    "# Predict probabilities for the positive class (class 2.758835)\n",
    "Y_prob = log_reg.predict_proba(X_test)[:, 1]  # index 1 for positive class\n",
    "\n",
    "# Compute ROC curve using correct pos_label\n",
    "fpr, tpr, thresholds = roc_curve(Y_test, Y_prob, pos_label=2.758835)\n",
    "\n",
    "# Compute AUC\n",
    "auc_score = roc_auc_score(Y_test, Y_prob)\n",
    "print(\"AUC-ROC Score:\", auc_score)\n"
   ]
  },
  {
   "cell_type": "code",
   "execution_count": 25,
   "id": "a9edecc5",
   "metadata": {},
   "outputs": [],
   "source": [
    "import pickle\n",
    "with open(\"loan_default_model.pkl\", \"wb\") as f:\n",
    "    pickle.dump(log_reg, f)"
   ]
  },
  {
   "cell_type": "code",
   "execution_count": 26,
   "id": "133b5118",
   "metadata": {},
   "outputs": [],
   "source": [
    "#loading\n",
    "with open(\"loan_default_model.pkl\", \"rb\") as f:\n",
    "    loaded_model = pickle.load(f)\n",
    "Y_pred = loaded_model.predict(X_test)"
   ]
  },
  {
   "cell_type": "code",
   "execution_count": 27,
   "id": "c8c7ca5c",
   "metadata": {},
   "outputs": [
    {
     "data": {
      "text/plain": [
       "array([0, 0, 0, ..., 0, 0, 0])"
      ]
     },
     "execution_count": 27,
     "metadata": {},
     "output_type": "execute_result"
    }
   ],
   "source": [
    "Y_pred"
   ]
  },
  {
   "cell_type": "code",
   "execution_count": 28,
   "id": "192d97a9",
   "metadata": {},
   "outputs": [
    {
     "data": {
      "text/plain": [
       "['loan_default_model.pkl']"
      ]
     },
     "execution_count": 28,
     "metadata": {},
     "output_type": "execute_result"
    }
   ],
   "source": [
    "from sklearn.preprocessing import StandardScaler\n",
    "from sklearn.pipeline import Pipeline\n",
    "import joblib\n",
    "\n",
    "# Since X_train is already numeric and scaled, you do not need further preprocessing.\n",
    "pipeline = Pipeline([\n",
    "    ('classifier', LogisticRegression(max_iter=1000))\n",
    "])\n",
    "\n",
    "pipeline.fit(X_train, Y_train)\n",
    "joblib.dump(pipeline, \"loan_default_model.pkl\")\n"
   ]
  },
  {
   "cell_type": "code",
   "execution_count": null,
   "id": "805fdc4d",
   "metadata": {},
   "outputs": [],
   "source": []
  },
  {
   "cell_type": "code",
   "execution_count": null,
   "id": "36991861",
   "metadata": {},
   "outputs": [],
   "source": []
  }
 ],
 "metadata": {
  "kernelspec": {
   "display_name": "base",
   "language": "python",
   "name": "python3"
  },
  "language_info": {
   "codemirror_mode": {
    "name": "ipython",
    "version": 3
   },
   "file_extension": ".py",
   "mimetype": "text/x-python",
   "name": "python",
   "nbconvert_exporter": "python",
   "pygments_lexer": "ipython3",
   "version": "3.13.5"
  }
 },
 "nbformat": 4,
 "nbformat_minor": 5
}
